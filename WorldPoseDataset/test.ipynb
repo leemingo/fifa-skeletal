{
 "cells": [
  {
   "cell_type": "code",
   "execution_count": 4,
   "metadata": {},
   "outputs": [
    {
     "name": "stdout",
     "output_type": "stream",
     "text": [
      "The autoreload extension is already loaded. To reload it, use:\n",
      "  %reload_ext autoreload\n"
     ]
    }
   ],
   "source": [
    "%load_ext autoreload\n",
    "%autoreload 2\n",
    "\n",
    "import cv2\n",
    "%matplotlib inline\n",
    "import matplotlib.pyplot as plt\n",
    "import numpy as np\n",
    "import os\n",
    "from pathlib import Path\n",
    "import smplx  # SMPL/SMPLX model library\n",
    "import sys\n",
    "import torch\n",
    "\n",
    "root_path = \"/data/MHL/fifa-skeletal\"\n",
    "sys.path.append(\"../aitviewer\")\n",
    "\n",
    "from aitviewer.configuration import CONFIG as C\n",
    "\n",
    "from lib.pitch import SoccerPitch\n",
    "from lib.utils import project_points\n",
    "from main import make_post_fk_func, create_smpl_sequences\n"
   ]
  },
  {
   "cell_type": "code",
   "execution_count": 3,
   "metadata": {},
   "outputs": [
    {
     "name": "stdout",
     "output_type": "stream",
     "text": [
      "=== Inspecting Camera Data ===\n",
      "File: /data/MHL/fifa-skeletal/cameras_train/ARG_CRO_220001.npz\n",
      "Keys: ['k', 'K', 'R', 't', 'Rt']\n",
      "Key: k, Shape: (1032, 5), Data type: float64\n",
      "Key: K, Shape: (1032, 3, 3), Data type: float64\n",
      "Key: R, Shape: (1032, 3, 3), Data type: float64\n",
      "Key: t, Shape: (1032, 3), Data type: float64\n",
      "Key: Rt, Shape: (1032, 3, 4), Data type: float64\n",
      "----------------------------------------\n",
      "\n",
      "=== Inspecting Pose Data ===\n",
      "File: /data/MHL/fifa-skeletal/poses/ARG_CRO_220001.npz\n",
      "Keys: ['global_orient', 'body_pose', 'transl', 'betas']\n",
      "Key: global_orient, Shape: (22, 1032, 3), Data type: float32\n",
      "Key: body_pose, Shape: (22, 1032, 69), Data type: float32\n",
      "Key: transl, Shape: (22, 1032, 3), Data type: float32\n",
      "Key: betas, Shape: (22, 10), Data type: float32\n",
      "----------------------------------------\n",
      "\n",
      "=== Video Information ===\n",
      "Video Information:\n",
      " - Frame count: 1032\n",
      " - FPS: 50.0\n",
      " - Resolution: 1920 x 1080\n",
      " - Duration: 20.64 seconds\n"
     ]
    }
   ],
   "source": [
    "def inspect_npz_file(file_path):\n",
    "    # Open the .npz file using np.load\n",
    "    with np.load(file_path) as data:\n",
    "        print(f\"File: {file_path}\")\n",
    "        # List all keys (array names) stored in the file\n",
    "        keys = list(data.keys())\n",
    "        print(\"Keys:\", keys)\n",
    "        # For each key, print the array's shape and data type\n",
    "        for key in keys:\n",
    "            array = data[key]\n",
    "            print(f\"Key: {key}, Shape: {array.shape}, Data type: {array.dtype}\")\n",
    "        print(\"-\" * 40)\n",
    "\n",
    "def print_video_info(cap):\n",
    "    \"\"\"\n",
    "    Prints video information such as frame count, FPS, resolution, and duration.\n",
    "    \"\"\"\n",
    "    frame_count = int(cap.get(cv2.CAP_PROP_FRAME_COUNT))\n",
    "    fps = cap.get(cv2.CAP_PROP_FPS)\n",
    "    width = int(cap.get(cv2.CAP_PROP_FRAME_WIDTH))\n",
    "    height = int(cap.get(cv2.CAP_PROP_FRAME_HEIGHT))\n",
    "    duration = frame_count / fps if fps else 0\n",
    "    print(\"Video Information:\")\n",
    "    print(f\" - Frame count: {frame_count}\")\n",
    "    print(f\" - FPS: {fps}\")\n",
    "    print(f\" - Resolution: {width} x {height}\")\n",
    "    print(f\" - Duration: {duration:.2f} seconds\")\n",
    "\n",
    "clip_name = \"ARG_CRO_220001\"\n",
    "\n",
    "data_dir = Path(root_path)\n",
    "smpl_param_path = data_dir / f\"poses/{clip_name}.npz\"\n",
    "video_path = data_dir / f\"video_train/{clip_name}.mp4\"\n",
    "calibration_path = data_dir / f\"cameras_train/{clip_name}.npz\"\n",
    "\n",
    "if not smpl_param_path.exists():\n",
    "    raise FileNotFoundError(f\"SMPL parameters not found at {smpl_param_path}\")\n",
    "if not video_path.exists():\n",
    "    raise FileNotFoundError(f\"Video not found at {video_path}\")\n",
    "if not calibration_path.exists():\n",
    "    raise FileNotFoundError(f\"Calibration parameters not found at {calibration_path}\")\n",
    "\n",
    "print(\"=== Inspecting Camera Data ===\")\n",
    "# inspect_npz_file(camera_file)\n",
    "inspect_npz_file(calibration_path)\n",
    "\n",
    "print(\"\\n=== Inspecting Pose Data ===\")\n",
    "inspect_npz_file(smpl_param_path)\n",
    "\n",
    "print(\"\\n=== Video Information ===\")\n",
    "cap = cv2.VideoCapture(video_path)\n",
    "print_video_info(cap)\n"
   ]
  },
  {
   "cell_type": "code",
   "execution_count": 5,
   "metadata": {},
   "outputs": [],
   "source": [
    "# define constants\n",
    "C.z_up = True\n",
    "C.smplx_models = f\"{root_path}/models\"\n",
    "\n",
    "camera_params = dict(np.load(calibration_path))\n",
    "\n",
    "# Load SMPL parameters\n",
    "smpl_params = dict(np.load(smpl_param_path))\n",
    "colors = np.random.rand(len(smpl_params[\"betas\"]), 4)\n",
    "colors[:, 3] = 1\n",
    "\n",
    "# Create a post-processing function (post_fk_func) to apply transformations to the vertices and joints\n",
    "# The function uses camera parameters for additional transformations\n",
    "post_fk_func = make_post_fk_func(camera_params)\n",
    "\n",
    "# Create the SMPL sequences for each person using the SMPL parameters, colors, and post-processing function\n",
    "# The SMPL sequences are stored in the list smpl_seqs\n",
    "smpl_seqs = create_smpl_sequences(smpl_params, colors=colors, post_fk_func=post_fk_func)\n"
   ]
  },
  {
   "cell_type": "code",
   "execution_count": 14,
   "metadata": {},
   "outputs": [
    {
     "name": "stdout",
     "output_type": "stream",
     "text": [
      "SMPL Sequence 0:\n",
      "Vertices shape: (1032, 6890, 3)\n",
      "Joints shape: (1032, 24, 3)\n",
      "Mesh sequence: <aitviewer.renderables.meshes.Meshes object at 0x7f85a5e317b0>\n",
      "Skeleton (body joint connections):\n",
      "tensor([[-1,  0,  0,  0,  1,  2,  3,  4,  5,  6,  7,  8,  9,  9,  9, 12, 13, 14,\n",
      "         16, 17, 18, 19, 20, 21],\n",
      "        [ 0,  1,  2,  3,  4,  5,  6,  7,  8,  9, 10, 11, 12, 13, 14, 15, 16, 17,\n",
      "         18, 19, 20, 21, 22, 23]], device='cuda:0')\n",
      "----------------------------------------\n"
     ]
    }
   ],
   "source": [
    "# Check data\n",
    "\n",
    "i = 0 # first frame\n",
    "smpl_seq = smpl_seqs[i]\n",
    "print(f\"SMPL Sequence {i}:\")\n",
    "\n",
    "# Access vertices and joints\n",
    "vertices = smpl_seq.vertices  # The vertices of the body mesh\n",
    "joints = smpl_seq.joints  # The joints of the body\n",
    "print(f\"Vertices shape: {vertices.shape}\")\n",
    "print(f\"Joints shape: {joints.shape}\")\n",
    "\n",
    "# # Print first few values of vertices and joints for inspection\n",
    "# print(f\"First 5 vertices:\\n{vertices[:5]}\")\n",
    "# print(f\"First 5 joints:\\n{joints[:5]}\")\n",
    "\n",
    "# If you want to check other properties like mesh data, you can also print them\n",
    "if hasattr(smpl_seq, 'mesh_seq'):\n",
    "    print(f\"Mesh sequence: {smpl_seq.mesh_seq}\")\n",
    "\n",
    "# Access the skeleton to understand the body joint connections\n",
    "# The skeleton defines the parent-child relationships between joints.\n",
    "# \"body\" refers to the skeletal structure of the body, excluding hands and face.\n",
    "skeleton = smpl_seq.smpl_layer.skeletons()[\"body\"] #all, body, hands\n",
    "\n",
    "# Print the skeleton (parent-child relationships)\n",
    "# The skeleton is represented as an array with pairs of parent and child joint indices.\n",
    "# For example, skeleton[i] = [parent_index, child_index] means joint at parent_index is the parent of the joint at child_index.\n",
    "print(f\"Skeleton (body joint connections):\\n{skeleton}\")\n",
    "\n",
    "print(\"-\" * 40)"
   ]
  },
  {
   "cell_type": "code",
   "execution_count": 15,
   "metadata": {},
   "outputs": [],
   "source": [
    "PITCH = SoccerPitch()\n",
    "soccer_pitch_3d_points = PITCH.pts  # 3D points of the soccer pitch keypoints\n",
    "SOCCER_FIELD_LINES = PITCH.lines"
   ]
  },
  {
   "cell_type": "markdown",
   "metadata": {},
   "source": [
    "## "
   ]
  },
  {
   "cell_type": "markdown",
   "metadata": {},
   "source": [
    "## 1. Genereate image with skeletal for one frame"
   ]
  },
  {
   "cell_type": "code",
   "execution_count": 24,
   "metadata": {},
   "outputs": [
    {
     "name": "stdout",
     "output_type": "stream",
     "text": [
      "/data/MHL/fifa-skeletal/outputs/ARG_CRO_220001/001032.jpg\n"
     ]
    }
   ],
   "source": [
    "print(f\"{root_path}/outputs/{clip_name}/{frame_num:06d}.jpg\")"
   ]
  },
  {
   "cell_type": "code",
   "execution_count": 20,
   "metadata": {},
   "outputs": [
    {
     "data": {
      "text/plain": [
       "True"
      ]
     },
     "execution_count": 20,
     "metadata": {},
     "output_type": "execute_result"
    }
   ],
   "source": [
    "# Define image path and frame number.\n",
    "frame_num = 0\n",
    "image_path = f\"{root_path}/outputs/{clip_name}/{frame_num:06d}.jpg\"\n",
    "\n",
    "# Read image in BGR format\n",
    "img = cv2.imread(image_path)\n",
    "\n",
    "# Camera parameters\n",
    "R = camera_params[\"R\"][frame_num]\n",
    "t = camera_params[\"t\"][frame_num]\n",
    "k = camera_params[\"k\"][frame_num]\n",
    "f = camera_params[\"K\"][frame_num][0, 0]\n",
    "principal_points = camera_params[\"K\"][frame_num][:2, 2]\n",
    "img_shape = img.shape\n",
    "\n",
    "# Draw soccer field lines\n",
    "for line in SOCCER_FIELD_LINES:\n",
    "    line = project_points(line, R=R, t=t, f=f, principal_points=principal_points, k=k, img_shape=img_shape)\n",
    "    line = line.astype(np.int32)\n",
    "    cv2.polylines(img, [line], isClosed=False, color=(0, 0, 255), thickness=2)  # Red lines\n",
    "\n",
    "# Visualize SMPL joints\n",
    "for smpl_seq in smpl_seqs:\n",
    "    joints = smpl_seq.joints[frame_num]  # frame's joint coordinates\n",
    "    if np.isnan(joints).all():  # Skip if all joints are NaN\n",
    "        continue\n",
    "\n",
    "    # Project joints to 2D\n",
    "    joints_2d = project_points(joints, R=R, t=t, f=f, principal_points=principal_points, k=k)\n",
    "    \n",
    "    # Draw joint positions\n",
    "    for joint in joints_2d:\n",
    "        x, y = joint.astype(int)\n",
    "        cv2.circle(img, (x, y), 5, (0, 255, 0), -1)  # Green circles\n",
    "\n",
    "    # Draw joint connections (skeleton)\n",
    "    skeleton = smpl_seq.smpl_layer.skeletons()[\"body\"]  # Body joint connections\n",
    "    for parent_idx, child_idx in skeleton.T:\n",
    "        if parent_idx == -1:  # Skip root joint\n",
    "            continue\n",
    "\n",
    "        parent_joint = joints_2d[parent_idx]\n",
    "        child_joint = joints_2d[child_idx]\n",
    "\n",
    "        # Skip if NaN in joint\n",
    "        if np.isnan(parent_joint).any() or np.isnan(child_joint).any():\n",
    "            continue\n",
    "\n",
    "        # Draw line between parent and child joints\n",
    "        parent_x, parent_y = parent_joint.astype(int)\n",
    "        child_x, child_y = child_joint.astype(int)\n",
    "        cv2.line(img, (parent_x, parent_y), (child_x, child_y), (255, 0, 0), 2)  # Blue line\n",
    "\n",
    "# Save the output image\n",
    "cv2.imwrite(f\"visualize_{clip_name}_{frame_num}.jpg\", img)"
   ]
  },
  {
   "cell_type": "markdown",
   "metadata": {},
   "source": [
    "## 1. Genereate video with"
   ]
  },
  {
   "cell_type": "code",
   "execution_count": 22,
   "metadata": {},
   "outputs": [
    {
     "name": "stdout",
     "output_type": "stream",
     "text": [
      "The output video has been saved to /data/MHL/fifa-skeletal/outputs/ARG_CRO_220001_video.mp4.\n"
     ]
    }
   ],
   "source": [
    "output_video_path = f\"/data/MHL/fifa-skeletal/outputs/{clip_name}_video.mp4\"\n",
    "output_image_path = f\"/data/MHL/fifa-skeletal/outputs/{clip_name}_overlay\"\n",
    "# Create video capture object\n",
    "cap = cv2.VideoCapture(video_path)\n",
    "\n",
    "# Get video frame size and FPS information\n",
    "frame_width = int(cap.get(cv2.CAP_PROP_FRAME_WIDTH))\n",
    "frame_height = int(cap.get(cv2.CAP_PROP_FRAME_HEIGHT))\n",
    "fps = cap.get(cv2.CAP_PROP_FPS)\n",
    "\n",
    "# Create video writer object (save to output_video_path)\n",
    "fourcc = cv2.VideoWriter_fourcc(*'mp4v')\n",
    "out = cv2.VideoWriter(output_video_path, fourcc, fps, (frame_width, frame_height))\n",
    "frame_num = 0\n",
    "\n",
    "while True:\n",
    "    ret, img = cap.read()\n",
    "    if not ret:\n",
    "        break\n",
    "\n",
    "    R = camera_params[\"R\"][frame_num]\n",
    "    t = camera_params[\"t\"][frame_num]\n",
    "    k = camera_params[\"k\"][frame_num]\n",
    "    f = camera_params[\"K\"][frame_num][0, 0]\n",
    "    principal_points = camera_params[\"K\"][frame_num][:2, 2]\n",
    "    img_shape = img.shape\n",
    "\n",
    "    # Draw soccer field lines\n",
    "    for line in SOCCER_FIELD_LINES:\n",
    "        line = project_points(line, R=R, t=t, f=f, principal_points=principal_points, k=k, img_shape=img.shape)\n",
    "        line = line.astype(np.int32)\n",
    "        cv2.polylines(img, [line], isClosed=False, color=(0, 0, 255), thickness=2)  # Red lines\n",
    "\n",
    "    # Visualize SMPL joints on the image (e.g., project SMPL joint coordinates to 2D)\n",
    "    for smpl_seq in smpl_seqs:\n",
    "        joints = smpl_seq.joints[frame_num]  # Joint coordinates of the first frame (e.g., body, hands)\n",
    "        if np.isnan(joints).all():  # If joints contain NaN values\n",
    "            continue  # Skip frames with NaN values\n",
    "\n",
    "        # Project joint 3D coordinates to 2D image coordinates\n",
    "        joints_2d = project_points(joints, R=R, t=t, f=f, principal_points=principal_points, k=k)\n",
    "\n",
    "        # Visualize joint positions (draw a circle for each joint)\n",
    "        for joint in joints_2d:\n",
    "            x, y = joint.astype(int)\n",
    "            cv2.circle(img, (x, y), 5, (0, 255, 0), -1)  # Green circles for joints\n",
    "\n",
    "        # Draw skeleton joints connections (parent-child relationships)\n",
    "        skeleton = smpl_seq.smpl_layer.skeletons()[\"body\"]  # SMPL body joint connections\n",
    "        for parent_idx, child_idx in skeleton.T:  # Parent-child relationships\n",
    "            if parent_idx == -1:  # Skip root joint as it has no parent\n",
    "                continue\n",
    "\n",
    "            parent_joint = joints_2d[parent_idx]\n",
    "            child_joint = joints_2d[child_idx]\n",
    "\n",
    "            # Skip joints that contain NaN values\n",
    "            if np.isnan(parent_joint).any() or np.isnan(child_joint).any():\n",
    "                continue\n",
    "\n",
    "            # Check if the coordinates are within the image boundaries\n",
    "            if not (0 <= parent_joint[0] < frame_width and 0 <= parent_joint[1] < frame_height) or \\\n",
    "               not (0 <= child_joint[0] < frame_width and 0 <= child_joint[1] < frame_height):\n",
    "                continue  # Skip joints outside the image range\n",
    "\n",
    "            parent_x, parent_y = parent_joint.astype(int)\n",
    "            child_x, child_y = child_joint.astype(int)\n",
    "\n",
    "            # Draw line connecting parent and child joints\n",
    "            cv2.line(img, (parent_x, parent_y), (child_x, child_y), (255, 0, 0), 2)  # Blue line\n",
    "\n",
    "    frame_num += 1\n",
    "    # Save the processed frame to the output video\n",
    "    out.write(img)\n",
    "    # Save the frame image\n",
    "    cv2.imwrite(f\"{output_image_path}/{frame_num:06d}.jpg\", img)\n",
    "\n",
    "# Release video capture and writer objects\n",
    "cap.release()\n",
    "out.release()\n",
    "\n",
    "# Print message\n",
    "print(f\"The output video has been saved to {output_video_path}.\")"
   ]
  },
  {
   "cell_type": "code",
   "execution_count": null,
   "metadata": {},
   "outputs": [],
   "source": []
  }
 ],
 "metadata": {
  "kernelspec": {
   "display_name": "kyujinpy",
   "language": "python",
   "name": "python3"
  },
  "language_info": {
   "codemirror_mode": {
    "name": "ipython",
    "version": 3
   },
   "file_extension": ".py",
   "mimetype": "text/x-python",
   "name": "python",
   "nbconvert_exporter": "python",
   "pygments_lexer": "ipython3",
   "version": "3.10.16"
  }
 },
 "nbformat": 4,
 "nbformat_minor": 2
}
